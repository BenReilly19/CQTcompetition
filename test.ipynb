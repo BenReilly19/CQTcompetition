{
 "cells": [
  {
   "cell_type": "code",
   "execution_count": 1,
   "metadata": {},
   "outputs": [],
   "source": [
    "from ib_insync import *\n",
    "import pandas as pd\n",
    "\n"
   ]
  },
  {
   "cell_type": "code",
   "execution_count": 2,
   "metadata": {},
   "outputs": [
    {
     "name": "stdout",
     "output_type": "stream",
     "text": [
      "nan\n"
     ]
    }
   ],
   "source": [
    "util.startLoop()  # only use in interactive environments (i.e. Jupyter Notebooks)\n",
    "ib = IB()\n",
    "ib.connect()\n",
    "nflx_contract = Stock('NFLX', 'SMART', 'USD')\n",
    "ib.qualifyContracts(nflx_contract)\n",
    "data = ib.reqMktData(nflx_contract)\n",
    "\n",
    "\n",
    "print(data.marketPrice())"
   ]
  },
  {
   "cell_type": "code",
   "execution_count": 3,
   "metadata": {},
   "outputs": [
    {
     "name": "stdout",
     "output_type": "stream",
     "text": [
      "200.995\n"
     ]
    }
   ],
   "source": [
    "print(data.marketPrice())"
   ]
  },
  {
   "cell_type": "code",
   "execution_count": 6,
   "metadata": {},
   "outputs": [],
   "source": [
    "historical_data_nflx = ib.reqHistoricalData(\n",
    "    nflx_contract, \n",
    "    '', \n",
    "    barSizeSetting='15 mins', \n",
    "    durationStr='2 Y', \n",
    "    whatToShow='MIDPOINT', \n",
    "    useRTH=True\n",
    "    )"
   ]
  },
  {
   "cell_type": "code",
   "execution_count": 8,
   "metadata": {},
   "outputs": [
    {
     "data": {
      "text/html": [
       "<div>\n",
       "<style scoped>\n",
       "    .dataframe tbody tr th:only-of-type {\n",
       "        vertical-align: middle;\n",
       "    }\n",
       "\n",
       "    .dataframe tbody tr th {\n",
       "        vertical-align: top;\n",
       "    }\n",
       "\n",
       "    .dataframe thead th {\n",
       "        text-align: right;\n",
       "    }\n",
       "</style>\n",
       "<table border=\"1\" class=\"dataframe\">\n",
       "  <thead>\n",
       "    <tr style=\"text-align: right;\">\n",
       "      <th></th>\n",
       "      <th>date</th>\n",
       "      <th>open</th>\n",
       "      <th>high</th>\n",
       "      <th>low</th>\n",
       "      <th>close</th>\n",
       "      <th>volume</th>\n",
       "      <th>average</th>\n",
       "      <th>barCount</th>\n",
       "    </tr>\n",
       "  </thead>\n",
       "  <tbody>\n",
       "    <tr>\n",
       "      <th>0</th>\n",
       "      <td>2020-04-27 09:30:00</td>\n",
       "      <td>424.850</td>\n",
       "      <td>425.860</td>\n",
       "      <td>421.540</td>\n",
       "      <td>421.710</td>\n",
       "      <td>-1.0</td>\n",
       "      <td>-1.0</td>\n",
       "      <td>-1</td>\n",
       "    </tr>\n",
       "    <tr>\n",
       "      <th>1</th>\n",
       "      <td>2020-04-27 09:45:00</td>\n",
       "      <td>421.710</td>\n",
       "      <td>423.880</td>\n",
       "      <td>420.840</td>\n",
       "      <td>423.070</td>\n",
       "      <td>-1.0</td>\n",
       "      <td>-1.0</td>\n",
       "      <td>-1</td>\n",
       "    </tr>\n",
       "    <tr>\n",
       "      <th>2</th>\n",
       "      <td>2020-04-27 10:00:00</td>\n",
       "      <td>423.070</td>\n",
       "      <td>428.695</td>\n",
       "      <td>421.920</td>\n",
       "      <td>428.335</td>\n",
       "      <td>-1.0</td>\n",
       "      <td>-1.0</td>\n",
       "      <td>-1</td>\n",
       "    </tr>\n",
       "    <tr>\n",
       "      <th>3</th>\n",
       "      <td>2020-04-27 10:15:00</td>\n",
       "      <td>428.335</td>\n",
       "      <td>428.405</td>\n",
       "      <td>425.115</td>\n",
       "      <td>425.735</td>\n",
       "      <td>-1.0</td>\n",
       "      <td>-1.0</td>\n",
       "      <td>-1</td>\n",
       "    </tr>\n",
       "    <tr>\n",
       "      <th>4</th>\n",
       "      <td>2020-04-27 10:30:00</td>\n",
       "      <td>425.735</td>\n",
       "      <td>427.265</td>\n",
       "      <td>424.895</td>\n",
       "      <td>426.570</td>\n",
       "      <td>-1.0</td>\n",
       "      <td>-1.0</td>\n",
       "      <td>-1</td>\n",
       "    </tr>\n",
       "    <tr>\n",
       "      <th>...</th>\n",
       "      <td>...</td>\n",
       "      <td>...</td>\n",
       "      <td>...</td>\n",
       "      <td>...</td>\n",
       "      <td>...</td>\n",
       "      <td>...</td>\n",
       "      <td>...</td>\n",
       "      <td>...</td>\n",
       "    </tr>\n",
       "    <tr>\n",
       "      <th>13067</th>\n",
       "      <td>2022-04-25 15:45:00</td>\n",
       "      <td>209.290</td>\n",
       "      <td>210.345</td>\n",
       "      <td>208.530</td>\n",
       "      <td>209.925</td>\n",
       "      <td>-1.0</td>\n",
       "      <td>-1.0</td>\n",
       "      <td>-1</td>\n",
       "    </tr>\n",
       "    <tr>\n",
       "      <th>13068</th>\n",
       "      <td>2022-04-26 09:30:00</td>\n",
       "      <td>208.750</td>\n",
       "      <td>209.135</td>\n",
       "      <td>204.540</td>\n",
       "      <td>205.270</td>\n",
       "      <td>-1.0</td>\n",
       "      <td>-1.0</td>\n",
       "      <td>-1</td>\n",
       "    </tr>\n",
       "    <tr>\n",
       "      <th>13069</th>\n",
       "      <td>2022-04-26 09:45:00</td>\n",
       "      <td>205.270</td>\n",
       "      <td>206.430</td>\n",
       "      <td>203.220</td>\n",
       "      <td>203.620</td>\n",
       "      <td>-1.0</td>\n",
       "      <td>-1.0</td>\n",
       "      <td>-1</td>\n",
       "    </tr>\n",
       "    <tr>\n",
       "      <th>13070</th>\n",
       "      <td>2022-04-26 10:00:00</td>\n",
       "      <td>203.620</td>\n",
       "      <td>204.195</td>\n",
       "      <td>201.810</td>\n",
       "      <td>202.890</td>\n",
       "      <td>-1.0</td>\n",
       "      <td>-1.0</td>\n",
       "      <td>-1</td>\n",
       "    </tr>\n",
       "    <tr>\n",
       "      <th>13071</th>\n",
       "      <td>2022-04-26 10:15:00</td>\n",
       "      <td>202.890</td>\n",
       "      <td>202.905</td>\n",
       "      <td>202.575</td>\n",
       "      <td>202.600</td>\n",
       "      <td>-1.0</td>\n",
       "      <td>-1.0</td>\n",
       "      <td>-1</td>\n",
       "    </tr>\n",
       "  </tbody>\n",
       "</table>\n",
       "<p>13072 rows × 8 columns</p>\n",
       "</div>"
      ],
      "text/plain": [
       "                     date     open     high      low    close  volume  \\\n",
       "0     2020-04-27 09:30:00  424.850  425.860  421.540  421.710    -1.0   \n",
       "1     2020-04-27 09:45:00  421.710  423.880  420.840  423.070    -1.0   \n",
       "2     2020-04-27 10:00:00  423.070  428.695  421.920  428.335    -1.0   \n",
       "3     2020-04-27 10:15:00  428.335  428.405  425.115  425.735    -1.0   \n",
       "4     2020-04-27 10:30:00  425.735  427.265  424.895  426.570    -1.0   \n",
       "...                   ...      ...      ...      ...      ...     ...   \n",
       "13067 2022-04-25 15:45:00  209.290  210.345  208.530  209.925    -1.0   \n",
       "13068 2022-04-26 09:30:00  208.750  209.135  204.540  205.270    -1.0   \n",
       "13069 2022-04-26 09:45:00  205.270  206.430  203.220  203.620    -1.0   \n",
       "13070 2022-04-26 10:00:00  203.620  204.195  201.810  202.890    -1.0   \n",
       "13071 2022-04-26 10:15:00  202.890  202.905  202.575  202.600    -1.0   \n",
       "\n",
       "       average  barCount  \n",
       "0         -1.0        -1  \n",
       "1         -1.0        -1  \n",
       "2         -1.0        -1  \n",
       "3         -1.0        -1  \n",
       "4         -1.0        -1  \n",
       "...        ...       ...  \n",
       "13067     -1.0        -1  \n",
       "13068     -1.0        -1  \n",
       "13069     -1.0        -1  \n",
       "13070     -1.0        -1  \n",
       "13071     -1.0        -1  \n",
       "\n",
       "[13072 rows x 8 columns]"
      ]
     },
     "execution_count": 8,
     "metadata": {},
     "output_type": "execute_result"
    }
   ],
   "source": [
    "util.df(historical_data_nflx)"
   ]
  },
  {
   "cell_type": "code",
   "execution_count": 6,
   "metadata": {},
   "outputs": [
    {
     "name": "stderr",
     "output_type": "stream",
     "text": [
      "Error 354, reqId 4: Requested market data is not subscribed.Delayed market data is available.Error&BEST/STK/Top&BEST/STK/Top, contract: Stock(conId=15124833, symbol='NFLX', exchange='SMART', primaryExchange='NASDAQ', currency='USD', localSymbol='NFLX', tradingClass='NMS')\n"
     ]
    }
   ],
   "source": [
    "data = ib.reqMktData(nflx_contract)\n"
   ]
  },
  {
   "cell_type": "code",
   "execution_count": 4,
   "metadata": {},
   "outputs": [],
   "source": [
    "nflx_order = MarketOrder('BUY', 200)\n",
    "\n",
    "trade = ib.placeOrder(nflx_contract, nflx_order)\n"
   ]
  },
  {
   "cell_type": "code",
   "execution_count": 13,
   "metadata": {},
   "outputs": [
    {
     "data": {
      "text/plain": [
       "200.0"
      ]
     },
     "execution_count": 13,
     "metadata": {},
     "output_type": "execute_result"
    }
   ],
   "source": [
    "ib.positions()[0].position"
   ]
  },
  {
   "cell_type": "code",
   "execution_count": 15,
   "metadata": {},
   "outputs": [],
   "source": [
    "positions = ib.positions()\n",
    "for i in range(len(positions)):\n",
    "  if positions[i].contract.symbol == \"NFLX\":\n",
    "\n",
    "    nflx_order = MarketOrder('SELL', positions[i].position)\n",
    "\n",
    "    trade = ib.placeOrder(nflx_contract, nflx_order)\n",
    "\n",
    "\n"
   ]
  },
  {
   "cell_type": "code",
   "execution_count": null,
   "metadata": {},
   "outputs": [],
   "source": []
  }
 ],
 "metadata": {
  "interpreter": {
   "hash": "94f2a76ffbe1ad8d9ee163905647d2befbdfd8683fffbc75e51b10d82a8ca9e4"
  },
  "kernelspec": {
   "display_name": "Python 3.8.8 ('base')",
   "language": "python",
   "name": "python3"
  },
  "language_info": {
   "codemirror_mode": {
    "name": "ipython",
    "version": 3
   },
   "file_extension": ".py",
   "mimetype": "text/x-python",
   "name": "python",
   "nbconvert_exporter": "python",
   "pygments_lexer": "ipython3",
   "version": "3.8.8"
  },
  "orig_nbformat": 4
 },
 "nbformat": 4,
 "nbformat_minor": 2
}
